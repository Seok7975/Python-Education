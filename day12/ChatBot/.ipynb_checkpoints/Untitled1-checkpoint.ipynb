{
 "cells": [
  {
   "cell_type": "code",
   "execution_count": 2,
   "id": "bf7711d5-f6a4-4cc0-a2ee-d22dc5d2f07e",
   "metadata": {},
   "outputs": [
    {
     "ename": "SyntaxError",
     "evalue": "Missing parentheses in call to 'print'. Did you mean print(...)? (2655912881.py, line 11)",
     "output_type": "error",
     "traceback": [
      "\u001b[1;36m  Cell \u001b[1;32mIn[2], line 11\u001b[1;36m\u001b[0m\n\u001b[1;33m    print repr(raw_input('input korean : ')) # 윈도우 cmd 쉘에서 \"한글\" 단어를 입력할시 '\\xc7\\xd1\\xb1\\xdb'로 보여진다.\u001b[0m\n\u001b[1;37m    ^\u001b[0m\n\u001b[1;31mSyntaxError\u001b[0m\u001b[1;31m:\u001b[0m Missing parentheses in call to 'print'. Did you mean print(...)?\n"
     ]
    }
   ],
   "source": [
    "# -*- coding: utf-8 -*-\n",
    "\n",
    "import sys\n",
    "\n",
    "reload(sys)\n",
    "\n",
    "sys.setdefaultencoding('utf-8')\n",
    "\n",
    "print('한글') # 고정으로 변수에 한글을 넣을 경우 맨앞에 u를 붙인다.\n",
    "\n",
    "# print repr(raw_input('input korean : ')) # 윈도우 cmd 쉘에서 \"한글\" 단어를 입력할시 '\\xc7\\xd1\\xb1\\xdb'로 보여진다.\n",
    "\n",
    "#print repr(raw_input('input korean : ')) # 리눅스 bash 쉘에서 \"한글\" 단어를 입력할시 '\\xed\\x95\\x9c\\xea\\xb8\\x80'로 보여진다."
   ]
  }
 ],
 "metadata": {
  "kernelspec": {
   "display_name": "Python 3 (ipykernel)",
   "language": "python",
   "name": "python3"
  },
  "language_info": {
   "codemirror_mode": {
    "name": "ipython",
    "version": 3
   },
   "file_extension": ".py",
   "mimetype": "text/x-python",
   "name": "python",
   "nbconvert_exporter": "python",
   "pygments_lexer": "ipython3",
   "version": "3.12.6"
  }
 },
 "nbformat": 4,
 "nbformat_minor": 5
}
