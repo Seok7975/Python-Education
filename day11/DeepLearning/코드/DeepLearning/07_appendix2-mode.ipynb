{
 "cells": [
  {
   "cell_type": "code",
   "execution_count": 8,
   "id": "82a337c5-f051-4a7b-ae26-03a9d10d8ea6",
   "metadata": {},
   "outputs": [],
   "source": [
    "# 라이브러리 사용\n",
    "import pandas as pd\n",
    "import tensorflow as tf"
   ]
  },
  {
   "cell_type": "code",
   "execution_count": 9,
   "id": "5a1b9063-34f3-4695-a70b-b6728a74ea17",
   "metadata": {},
   "outputs": [
    {
     "name": "stdout",
     "output_type": "stream",
     "text": [
      "(506, 13) (506, 1)\n"
     ]
    }
   ],
   "source": [
    "# 1.과거의 데이터를 준비합니다.\n",
    "파일경로 = './csv/boston.csv'\n",
    "보스톤 = pd.read_csv(파일경로)\n",
    "\n",
    "# 독립변수, 종속변수\n",
    "독립 = 보스톤[['crim', 'zn', 'indus', 'chas', 'nox', 'rm', 'age', 'dis', 'rad', 'tax',\n",
    "       'ptratio', 'b', 'lstat']]\n",
    "종속 = 보스톤[['medv']]\n",
    "print(독립.shape, 종속.shape)"
   ]
  },
  {
   "cell_type": "code",
   "execution_count": 10,
   "id": "2915ce93-75a7-41a3-a6fe-8d70055314c8",
   "metadata": {},
   "outputs": [],
   "source": [
    "# 2. 모델의 구조를 만듭니다\n",
    "X = tf.keras.layers.Input(shape=[13]) # 13개 input\n",
    "H = tf.keras.layers.Dense(8, activation='swish')(X)\n",
    "H = tf.keras.layers.Dense(8, activation='swish')(H)\n",
    "H = tf.keras.layers.Dense(8, activation='swish')(H)\n",
    "Y = tf.keras.layers.Dense(1)(H)\n",
    "model = tf.keras.models.Model(X, Y)\n",
    "model.compile(loss='mse')"
   ]
  },
  {
   "cell_type": "code",
   "execution_count": 12,
   "id": "abb217ea-063f-4c85-ac75-49929714982c",
   "metadata": {},
   "outputs": [],
   "source": [
    "# 2. 모델의 구조를 BatchNormalization layer를 사용하여 만든다.\n",
    "X = tf.keras.layers.Input(shape=[13])\n",
    "\n",
    "# 레이어를 분리해서 만든다.\n",
    "H = tf.keras.layers.Dense(8)(X)\n",
    "H = tf.keras.layers.BatchNormalization()(H) #  배치정규화를 추가해 준다. 이사이 넣는 것이 효과적이기때문에\n",
    "H = tf.keras.layers.Activation('swish')(H)\n",
    "\n",
    "H = tf.keras.layers.Dense(8)(H)\n",
    "H = tf.keras.layers.BatchNormalization()(H)\n",
    "H = tf.keras.layers.Activation('swish')(H)\n",
    "\n",
    "H = tf.keras.layers.Dense(8)(H)\n",
    "H = tf.keras.layers.BatchNormalization()(H)\n",
    "H = tf.keras.layers.Activation('swish')(H)\n",
    "\n",
    "Y = tf.keras.layers.Dense(1)(H)\n",
    "model = tf.keras.models.Model(X, Y)\n",
    "model.compile(loss='mse')"
   ]
  },
  {
   "cell_type": "code",
   "execution_count": 13,
   "id": "4b2f2cc9-ec0e-4aca-b137-10f14c078aad",
   "metadata": {},
   "outputs": [
    {
     "data": {
      "text/plain": [
       "<keras.src.callbacks.history.History at 0x2b845f99820>"
      ]
     },
     "execution_count": 13,
     "metadata": {},
     "output_type": "execute_result"
    }
   ],
   "source": [
    "# 3.데이터로 모델을 학습(FIT)합니다.\n",
    "model.fit(독립, 종속, epochs=1000, verbose=0)\n",
    "# 로스가 9이하로도 떨어지는 것을 볼수 있습니다. 이것이 베치 정규화의 효과입니다."
   ]
  },
  {
   "cell_type": "code",
   "execution_count": 15,
   "id": "e28dc790-53a1-4518-b2fe-07eccd207dbe",
   "metadata": {},
   "outputs": [
    {
     "name": "stdout",
     "output_type": "stream",
     "text": [
      "Epoch 1/5\n",
      "\u001b[1m16/16\u001b[0m \u001b[32m━━━━━━━━━━━━━━━━━━━━\u001b[0m\u001b[37m\u001b[0m \u001b[1m0s\u001b[0m 1ms/step - loss: 8.1601 \n",
      "Epoch 2/5\n",
      "\u001b[1m16/16\u001b[0m \u001b[32m━━━━━━━━━━━━━━━━━━━━\u001b[0m\u001b[37m\u001b[0m \u001b[1m0s\u001b[0m 1ms/step - loss: 9.2167 \n",
      "Epoch 3/5\n",
      "\u001b[1m16/16\u001b[0m \u001b[32m━━━━━━━━━━━━━━━━━━━━\u001b[0m\u001b[37m\u001b[0m \u001b[1m0s\u001b[0m 1ms/step - loss: 13.2652 \n",
      "Epoch 4/5\n",
      "\u001b[1m16/16\u001b[0m \u001b[32m━━━━━━━━━━━━━━━━━━━━\u001b[0m\u001b[37m\u001b[0m \u001b[1m0s\u001b[0m 1ms/step - loss: 10.7607 \n",
      "Epoch 5/5\n",
      "\u001b[1m16/16\u001b[0m \u001b[32m━━━━━━━━━━━━━━━━━━━━\u001b[0m\u001b[37m\u001b[0m \u001b[1m0s\u001b[0m 1ms/step - loss: 10.9414\n"
     ]
    },
    {
     "data": {
      "text/plain": [
       "<keras.src.callbacks.history.History at 0x2b849f3c380>"
      ]
     },
     "execution_count": 15,
     "metadata": {},
     "output_type": "execute_result"
    }
   ],
   "source": [
    "model.fit(독립, 종속, epochs=5)"
   ]
  },
  {
   "cell_type": "code",
   "execution_count": 16,
   "id": "c57860d3-3f15-4556-bbfa-a214abeb0de2",
   "metadata": {},
   "outputs": [
    {
     "name": "stdout",
     "output_type": "stream",
     "text": [
      "(150, 4) (150, 3)\n"
     ]
    }
   ],
   "source": [
    "# 1.과거의 데이터를 준비합니다. 분류 모델에서의 배체 정규화\n",
    "# 1.과거의 데이터를 준비합니다.\n",
    "파일경로 = './csv/iris.csv'\n",
    "아이리스 = pd.read_csv(파일경로)\n",
    "\n",
    "# 원핫인코딩\n",
    "인코딩 = pd.get_dummies(아이리스)\n",
    "\n",
    "# 독립변수, 종속변수\n",
    "독립 = 인코딩[['꽃잎길이', '꽃잎폭', '꽃받침길이', '꽃받침폭']]\n",
    "종속 = 인코딩[['품종_setosa', '품종_versicolor', '품종_virginica']]\n",
    "print(독립.shape, 종속.shape)"
   ]
  },
  {
   "cell_type": "code",
   "execution_count": 18,
   "id": "893a3ee7-8d19-4a1f-b539-4946a66d75ec",
   "metadata": {},
   "outputs": [],
   "source": [
    "# 2. 모델의 구조를 만듭니다\n",
    "X = tf.keras.layers.Input(shape=[4]) \n",
    "H = tf.keras.layers.Dense(8, activation='swish')(X)\n",
    "H = tf.keras.layers.Dense(8, activation='swish')(H)\n",
    "H = tf.keras.layers.Dense(8, activation='swish')(H)\n",
    "Y = tf.keras.layers.Dense(3, activation='softmax')(H) \n",
    "model = tf.keras.models.Model(X, Y)\n",
    "model.compile(loss='categorical_crossentropy', \n",
    "              metrics = ['accuracy'])"
   ]
  },
  {
   "cell_type": "code",
   "execution_count": 20,
   "id": "fcd3115f-a0c8-43e8-9ab7-b4a595fda1c2",
   "metadata": {},
   "outputs": [],
   "source": [
    "# 2. 모델의 구조를 BatchNormalization layer를 사용하여 만든다.\n",
    "X = tf.keras.layers.Input(shape=[4])\n",
    "\n",
    "# 레이어를 분리해서 만든다.\n",
    "H = tf.keras.layers.Dense(8)(X)\n",
    "H = tf.keras.layers.BatchNormalization()(H)\n",
    "H = tf.keras.layers.Activation('swish')(H)\n",
    "\n",
    "H = tf.keras.layers.Dense(8)(H)\n",
    "H = tf.keras.layers.BatchNormalization()(H)\n",
    "H = tf.keras.layers.Activation('swish')(H)\n",
    "\n",
    "H = tf.keras.layers.Dense(8)(H)\n",
    "H = tf.keras.layers.BatchNormalization()(H)\n",
    "H = tf.keras.layers.Activation('swish')(H)\n",
    "\n",
    "Y = tf.keras.layers.Dense(3, activation='softmax')(H) \n",
    "model = tf.keras.models.Model(X, Y)\n",
    "model.compile(loss='categorical_crossentropy', \n",
    "              metrics = ['accuracy'])"
   ]
  },
  {
   "cell_type": "code",
   "execution_count": 21,
   "id": "411217aa-56db-4db2-bdf3-06c89637d0e9",
   "metadata": {},
   "outputs": [
    {
     "data": {
      "text/plain": [
       "<keras.src.callbacks.history.History at 0x2b84a38b8c0>"
      ]
     },
     "execution_count": 21,
     "metadata": {},
     "output_type": "execute_result"
    }
   ],
   "source": [
    "# 3.데이터로 모델을 학습(FIT)합니다.\n",
    "model.fit(독립, 종속, epochs=1000, verbose=0)"
   ]
  },
  {
   "cell_type": "code",
   "execution_count": 22,
   "id": "f8f03a2d-62b5-46ac-82aa-b3964adb13b1",
   "metadata": {},
   "outputs": [
    {
     "name": "stdout",
     "output_type": "stream",
     "text": [
      "Epoch 1/5\n",
      "\u001b[1m5/5\u001b[0m \u001b[32m━━━━━━━━━━━━━━━━━━━━\u001b[0m\u001b[37m\u001b[0m \u001b[1m0s\u001b[0m 2ms/step - accuracy: 0.9912 - loss: 0.0329 \n",
      "Epoch 2/5\n",
      "\u001b[1m5/5\u001b[0m \u001b[32m━━━━━━━━━━━━━━━━━━━━\u001b[0m\u001b[37m\u001b[0m \u001b[1m0s\u001b[0m 2ms/step - accuracy: 0.9899 - loss: 0.0445 \n",
      "Epoch 3/5\n",
      "\u001b[1m5/5\u001b[0m \u001b[32m━━━━━━━━━━━━━━━━━━━━\u001b[0m\u001b[37m\u001b[0m \u001b[1m0s\u001b[0m 2ms/step - accuracy: 0.9807 - loss: 0.0445 \n",
      "Epoch 4/5\n",
      "\u001b[1m5/5\u001b[0m \u001b[32m━━━━━━━━━━━━━━━━━━━━\u001b[0m\u001b[37m\u001b[0m \u001b[1m0s\u001b[0m 2ms/step - accuracy: 0.9802 - loss: 0.0300 \n",
      "Epoch 5/5\n",
      "\u001b[1m5/5\u001b[0m \u001b[32m━━━━━━━━━━━━━━━━━━━━\u001b[0m\u001b[37m\u001b[0m \u001b[1m0s\u001b[0m 2ms/step - accuracy: 0.9781 - loss: 0.0383 \n"
     ]
    },
    {
     "data": {
      "text/plain": [
       "<keras.src.callbacks.history.History at 0x2b849e34380>"
      ]
     },
     "execution_count": 22,
     "metadata": {},
     "output_type": "execute_result"
    }
   ],
   "source": [
    "model.fit(독립, 종속, epochs=5)\n",
    "# 로스가 0.03까지 떨어진 것을 볼수 있습니다. 조그더 학습을 잘 할 수 있는 모델을 알아봤습니다."
   ]
  },
  {
   "cell_type": "code",
   "execution_count": null,
   "id": "f4e3d99c-ccaf-48be-92be-27bd7584ccf8",
   "metadata": {},
   "outputs": [],
   "source": []
  }
 ],
 "metadata": {
  "kernelspec": {
   "display_name": "Python 3 (ipykernel)",
   "language": "python",
   "name": "python3"
  },
  "language_info": {
   "codemirror_mode": {
    "name": "ipython",
    "version": 3
   },
   "file_extension": ".py",
   "mimetype": "text/x-python",
   "name": "python",
   "nbconvert_exporter": "python",
   "pygments_lexer": "ipython3",
   "version": "3.12.6"
  }
 },
 "nbformat": 4,
 "nbformat_minor": 5
}
