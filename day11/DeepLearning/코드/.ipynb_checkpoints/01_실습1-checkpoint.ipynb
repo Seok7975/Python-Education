{
 "cells": [
  {
   "cell_type": "markdown",
   "id": "df8454b9-bbfd-411c-afda-5b70062572d2",
   "metadata": {},
   "source": [
    "# 데이터 준비하기 1\n",
    "\n",
    "1. 데이터를 불러온다\n",
    "2. 종속변수와 독립변수로 분리한다.\n",
    "\n",
    "- 실습을 통해 배울 도구들\n",
    "  - 파일 읽어오기: **read_csv('/경로/파일명.csv')**\n",
    "  - 모양 확인하기: **데이터.shape**\n",
    "  - 칼럼 선택하기: **데이터[['칼럼명1', '칼럼명2', '칼럼명3']]** 독립변수\n",
    "  - 칼럼 이름 출력하기: **데이터.columns**\n",
    "  - 맨 위 5개 관측치 출력하기: **데이터.head()**"
   ]
  },
  {
   "cell_type": "code",
   "execution_count": 1,
   "id": "60c2e963-028c-4a02-b7da-5f602b30b41e",
   "metadata": {},
   "outputs": [],
   "source": [
    " # 표형태로 되어있는 데이터를 쉽게 사용하기 위해 판다스 라이브러리 사용\n",
    "import pandas as pd"
   ]
  },
  {
   "cell_type": "code",
   "execution_count": 9,
   "id": "9dc6a938-588c-408f-9ed4-59b5130299f5",
   "metadata": {},
   "outputs": [],
   "source": [
    "# 파일로부터 데이터 읽어오기\n",
    "filepath = './csv/lemonade.csv'\n",
    "lemonade = pd.read_csv(filepath)\n",
    "\n",
    "filepath = './csv/boston.csv'\n",
    "boston = pd.read_csv(filepath)\n",
    "\n",
    "filepath = './csv/iris.csv'\n",
    "iris = pd.read_csv(filepath)"
   ]
  },
  {
   "cell_type": "code",
   "execution_count": 12,
   "id": "d239b997-82ea-4519-a2af-382d329cad0c",
   "metadata": {},
   "outputs": [
    {
     "name": "stdout",
     "output_type": "stream",
     "text": [
      "(6, 2)\n",
      "(506, 14)\n",
      "(150, 5)\n"
     ]
    }
   ],
   "source": [
    "# 데이터의 모양확인\n",
    "print(lemonade.shape) # 6행 2열\n",
    "print(boston.shape) # 506행 14열\n",
    "print(iris.shape) # 150행 5열"
   ]
  },
  {
   "cell_type": "code",
   "execution_count": 14,
   "id": "80b4a28c-8264-4e59-89d0-455ce6482313",
   "metadata": {},
   "outputs": [
    {
     "name": "stdout",
     "output_type": "stream",
     "text": [
      "Index(['온도', '판매량'], dtype='object')\n",
      "Index(['crim', 'zn', 'indus', 'chas', 'nox', 'rm', 'age', 'dis', 'rad', 'tax',\n",
      "       'ptratio', 'b', 'lstat', 'medv'],\n",
      "      dtype='object')\n",
      "Index(['꽃잎길이', '꽃잎폭', '꽃받침길이', '꽃받침폭', '품종'], dtype='object')\n"
     ]
    }
   ],
   "source": [
    "# 데이터 칼럼이름 확인\n",
    "print(lemonade.columns)\n",
    "print(boston.columns)\n",
    "print(iris.columns)"
   ]
  },
  {
   "cell_type": "markdown",
   "id": "8f8fef38-dd6e-48cf-9320-b0516da82a0d",
   "metadata": {},
   "source": [
    "#### 기본 제목 텍스트"
   ]
  },
  {
   "cell_type": "code",
   "execution_count": 20,
   "id": "d8039ae8-510c-486d-bf3d-6e7fd85a77e8",
   "metadata": {},
   "outputs": [
    {
     "name": "stdout",
     "output_type": "stream",
     "text": [
      "(6, 1) (6, 1)\n",
      "(506, 13) (506, 1)\n",
      "(150, 4) (150, 1)\n"
     ]
    }
   ],
   "source": [
    "# 독립변수와 종속변수 분리\n",
    "독립 = lemonade[['온도']]\n",
    "종속 = lemonade[['판매량']]\n",
    "print(독립.shape, 종속.shape) # 독립변수 1, 종속변수 1\n",
    "\n",
    "독립 = boston[['crim', 'zn', 'indus', 'chas', 'nox', 'rm', 'age', 'dis', 'rad', 'tax',\n",
    "       'ptratio', 'b', 'lstat']]\n",
    "종속 = boston[['medv']]\n",
    "print(독립.shape, 종속.shape) # 독립변수 13, 종속변수 1\n",
    "\n",
    "독립 = iris[['꽃잎길이', '꽃잎폭', '꽃받침길이', '꽃받침폭']]\n",
    "종속 = iris[['품종']]\n",
    "print(독립.shape, 종속.shape) # 독립변수 4, 종속변수 1"
   ]
  },
  {
   "cell_type": "markdown",
   "id": "fa6c3119-1f6d-4e0a-a406-e71e7ce233aa",
   "metadata": {},
   "source": [
    "#### 각각의 데이터 확인해보기"
   ]
  },
  {
   "cell_type": "code",
   "execution_count": 21,
   "id": "a0258fbf-5632-4031-8016-848fda273925",
   "metadata": {},
   "outputs": [
    {
     "data": {
      "text/html": [
       "<div>\n",
       "<style scoped>\n",
       "    .dataframe tbody tr th:only-of-type {\n",
       "        vertical-align: middle;\n",
       "    }\n",
       "\n",
       "    .dataframe tbody tr th {\n",
       "        vertical-align: top;\n",
       "    }\n",
       "\n",
       "    .dataframe thead th {\n",
       "        text-align: right;\n",
       "    }\n",
       "</style>\n",
       "<table border=\"1\" class=\"dataframe\">\n",
       "  <thead>\n",
       "    <tr style=\"text-align: right;\">\n",
       "      <th></th>\n",
       "      <th>온도</th>\n",
       "      <th>판매량</th>\n",
       "    </tr>\n",
       "  </thead>\n",
       "  <tbody>\n",
       "    <tr>\n",
       "      <th>0</th>\n",
       "      <td>20</td>\n",
       "      <td>40</td>\n",
       "    </tr>\n",
       "    <tr>\n",
       "      <th>1</th>\n",
       "      <td>21</td>\n",
       "      <td>42</td>\n",
       "    </tr>\n",
       "    <tr>\n",
       "      <th>2</th>\n",
       "      <td>22</td>\n",
       "      <td>44</td>\n",
       "    </tr>\n",
       "    <tr>\n",
       "      <th>3</th>\n",
       "      <td>23</td>\n",
       "      <td>46</td>\n",
       "    </tr>\n",
       "    <tr>\n",
       "      <th>4</th>\n",
       "      <td>24</td>\n",
       "      <td>48</td>\n",
       "    </tr>\n",
       "  </tbody>\n",
       "</table>\n",
       "</div>"
      ],
      "text/plain": [
       "   온도  판매량\n",
       "0  20   40\n",
       "1  21   42\n",
       "2  22   44\n",
       "3  23   46\n",
       "4  24   48"
      ]
     },
     "execution_count": 21,
     "metadata": {},
     "output_type": "execute_result"
    }
   ],
   "source": [
    "lemonade.head() # 레모네이드 상위 다섯개만 출력"
   ]
  },
  {
   "cell_type": "code",
   "execution_count": 22,
   "id": "7f386568-7269-406d-9a89-35b47d0f19d1",
   "metadata": {},
   "outputs": [
    {
     "data": {
      "text/html": [
       "<div>\n",
       "<style scoped>\n",
       "    .dataframe tbody tr th:only-of-type {\n",
       "        vertical-align: middle;\n",
       "    }\n",
       "\n",
       "    .dataframe tbody tr th {\n",
       "        vertical-align: top;\n",
       "    }\n",
       "\n",
       "    .dataframe thead th {\n",
       "        text-align: right;\n",
       "    }\n",
       "</style>\n",
       "<table border=\"1\" class=\"dataframe\">\n",
       "  <thead>\n",
       "    <tr style=\"text-align: right;\">\n",
       "      <th></th>\n",
       "      <th>crim</th>\n",
       "      <th>zn</th>\n",
       "      <th>indus</th>\n",
       "      <th>chas</th>\n",
       "      <th>nox</th>\n",
       "      <th>rm</th>\n",
       "      <th>age</th>\n",
       "      <th>dis</th>\n",
       "      <th>rad</th>\n",
       "      <th>tax</th>\n",
       "      <th>ptratio</th>\n",
       "      <th>b</th>\n",
       "      <th>lstat</th>\n",
       "      <th>medv</th>\n",
       "    </tr>\n",
       "  </thead>\n",
       "  <tbody>\n",
       "    <tr>\n",
       "      <th>0</th>\n",
       "      <td>0.00632</td>\n",
       "      <td>18.0</td>\n",
       "      <td>2.31</td>\n",
       "      <td>0</td>\n",
       "      <td>0.538</td>\n",
       "      <td>6.575</td>\n",
       "      <td>65.2</td>\n",
       "      <td>4.0900</td>\n",
       "      <td>1</td>\n",
       "      <td>296</td>\n",
       "      <td>15.3</td>\n",
       "      <td>396.90</td>\n",
       "      <td>4.98</td>\n",
       "      <td>24.0</td>\n",
       "    </tr>\n",
       "    <tr>\n",
       "      <th>1</th>\n",
       "      <td>0.02731</td>\n",
       "      <td>0.0</td>\n",
       "      <td>7.07</td>\n",
       "      <td>0</td>\n",
       "      <td>0.469</td>\n",
       "      <td>6.421</td>\n",
       "      <td>78.9</td>\n",
       "      <td>4.9671</td>\n",
       "      <td>2</td>\n",
       "      <td>242</td>\n",
       "      <td>17.8</td>\n",
       "      <td>396.90</td>\n",
       "      <td>9.14</td>\n",
       "      <td>21.6</td>\n",
       "    </tr>\n",
       "    <tr>\n",
       "      <th>2</th>\n",
       "      <td>0.02729</td>\n",
       "      <td>0.0</td>\n",
       "      <td>7.07</td>\n",
       "      <td>0</td>\n",
       "      <td>0.469</td>\n",
       "      <td>7.185</td>\n",
       "      <td>61.1</td>\n",
       "      <td>4.9671</td>\n",
       "      <td>2</td>\n",
       "      <td>242</td>\n",
       "      <td>17.8</td>\n",
       "      <td>392.83</td>\n",
       "      <td>4.03</td>\n",
       "      <td>34.7</td>\n",
       "    </tr>\n",
       "    <tr>\n",
       "      <th>3</th>\n",
       "      <td>0.03237</td>\n",
       "      <td>0.0</td>\n",
       "      <td>2.18</td>\n",
       "      <td>0</td>\n",
       "      <td>0.458</td>\n",
       "      <td>6.998</td>\n",
       "      <td>45.8</td>\n",
       "      <td>6.0622</td>\n",
       "      <td>3</td>\n",
       "      <td>222</td>\n",
       "      <td>18.7</td>\n",
       "      <td>394.63</td>\n",
       "      <td>2.94</td>\n",
       "      <td>33.4</td>\n",
       "    </tr>\n",
       "    <tr>\n",
       "      <th>4</th>\n",
       "      <td>0.06905</td>\n",
       "      <td>0.0</td>\n",
       "      <td>2.18</td>\n",
       "      <td>0</td>\n",
       "      <td>0.458</td>\n",
       "      <td>7.147</td>\n",
       "      <td>54.2</td>\n",
       "      <td>6.0622</td>\n",
       "      <td>3</td>\n",
       "      <td>222</td>\n",
       "      <td>18.7</td>\n",
       "      <td>396.90</td>\n",
       "      <td>5.33</td>\n",
       "      <td>36.2</td>\n",
       "    </tr>\n",
       "  </tbody>\n",
       "</table>\n",
       "</div>"
      ],
      "text/plain": [
       "      crim    zn  indus  chas    nox     rm   age     dis  rad  tax  ptratio  \\\n",
       "0  0.00632  18.0   2.31     0  0.538  6.575  65.2  4.0900    1  296     15.3   \n",
       "1  0.02731   0.0   7.07     0  0.469  6.421  78.9  4.9671    2  242     17.8   \n",
       "2  0.02729   0.0   7.07     0  0.469  7.185  61.1  4.9671    2  242     17.8   \n",
       "3  0.03237   0.0   2.18     0  0.458  6.998  45.8  6.0622    3  222     18.7   \n",
       "4  0.06905   0.0   2.18     0  0.458  7.147  54.2  6.0622    3  222     18.7   \n",
       "\n",
       "        b  lstat  medv  \n",
       "0  396.90   4.98  24.0  \n",
       "1  396.90   9.14  21.6  \n",
       "2  392.83   4.03  34.7  \n",
       "3  394.63   2.94  33.4  \n",
       "4  396.90   5.33  36.2  "
      ]
     },
     "execution_count": 22,
     "metadata": {},
     "output_type": "execute_result"
    }
   ],
   "source": [
    "boston.head() # 보스턴 상위 다섯개만 출력"
   ]
  },
  {
   "cell_type": "code",
   "execution_count": 23,
   "id": "4951d2c5-56aa-4b1e-9f47-dac4a91be516",
   "metadata": {},
   "outputs": [
    {
     "data": {
      "text/html": [
       "<div>\n",
       "<style scoped>\n",
       "    .dataframe tbody tr th:only-of-type {\n",
       "        vertical-align: middle;\n",
       "    }\n",
       "\n",
       "    .dataframe tbody tr th {\n",
       "        vertical-align: top;\n",
       "    }\n",
       "\n",
       "    .dataframe thead th {\n",
       "        text-align: right;\n",
       "    }\n",
       "</style>\n",
       "<table border=\"1\" class=\"dataframe\">\n",
       "  <thead>\n",
       "    <tr style=\"text-align: right;\">\n",
       "      <th></th>\n",
       "      <th>꽃잎길이</th>\n",
       "      <th>꽃잎폭</th>\n",
       "      <th>꽃받침길이</th>\n",
       "      <th>꽃받침폭</th>\n",
       "      <th>품종</th>\n",
       "    </tr>\n",
       "  </thead>\n",
       "  <tbody>\n",
       "    <tr>\n",
       "      <th>0</th>\n",
       "      <td>5.1</td>\n",
       "      <td>3.5</td>\n",
       "      <td>1.4</td>\n",
       "      <td>0.2</td>\n",
       "      <td>setosa</td>\n",
       "    </tr>\n",
       "    <tr>\n",
       "      <th>1</th>\n",
       "      <td>4.9</td>\n",
       "      <td>3.0</td>\n",
       "      <td>1.4</td>\n",
       "      <td>0.2</td>\n",
       "      <td>setosa</td>\n",
       "    </tr>\n",
       "    <tr>\n",
       "      <th>2</th>\n",
       "      <td>4.7</td>\n",
       "      <td>3.2</td>\n",
       "      <td>1.3</td>\n",
       "      <td>0.2</td>\n",
       "      <td>setosa</td>\n",
       "    </tr>\n",
       "    <tr>\n",
       "      <th>3</th>\n",
       "      <td>4.6</td>\n",
       "      <td>3.1</td>\n",
       "      <td>1.5</td>\n",
       "      <td>0.2</td>\n",
       "      <td>setosa</td>\n",
       "    </tr>\n",
       "    <tr>\n",
       "      <th>4</th>\n",
       "      <td>5.0</td>\n",
       "      <td>3.6</td>\n",
       "      <td>1.4</td>\n",
       "      <td>0.2</td>\n",
       "      <td>setosa</td>\n",
       "    </tr>\n",
       "  </tbody>\n",
       "</table>\n",
       "</div>"
      ],
      "text/plain": [
       "   꽃잎길이  꽃잎폭  꽃받침길이  꽃받침폭      품종\n",
       "0   5.1  3.5    1.4   0.2  setosa\n",
       "1   4.9  3.0    1.4   0.2  setosa\n",
       "2   4.7  3.2    1.3   0.2  setosa\n",
       "3   4.6  3.1    1.5   0.2  setosa\n",
       "4   5.0  3.6    1.4   0.2  setosa"
      ]
     },
     "execution_count": 23,
     "metadata": {},
     "output_type": "execute_result"
    }
   ],
   "source": [
    "iris.head()  # 아이리스 상위 다섯개만 출력"
   ]
  }
 ],
 "metadata": {
  "kernelspec": {
   "display_name": "Python 3 (ipykernel)",
   "language": "python",
   "name": "python3"
  },
  "language_info": {
   "codemirror_mode": {
    "name": "ipython",
    "version": 3
   },
   "file_extension": ".py",
   "mimetype": "text/x-python",
   "name": "python",
   "nbconvert_exporter": "python",
   "pygments_lexer": "ipython3",
   "version": "3.12.6"
  }
 },
 "nbformat": 4,
 "nbformat_minor": 5
}
