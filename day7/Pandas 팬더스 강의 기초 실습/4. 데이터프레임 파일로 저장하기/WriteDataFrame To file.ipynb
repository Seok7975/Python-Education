{
 "cells": [
  {
   "cell_type": "code",
   "execution_count": 2,
   "id": "d4c8264f-7817-45fb-ae9d-0ae913bc70ce",
   "metadata": {},
   "outputs": [],
   "source": [
    "import pandas as pd"
   ]
  },
  {
   "cell_type": "markdown",
   "id": "9d69863c-d081-460d-9267-bbf52e5ffb9c",
   "metadata": {},
   "source": [
    "# 파일로 데이터프레임을 저장하기"
   ]
  },
  {
   "cell_type": "markdown",
   "id": "549c5301-8b87-4df1-ac22-6ea0ea8f25fd",
   "metadata": {},
   "source": [
    "아래는 데이터프레임을 헤더와 함께 저장하는 예제입니다."
   ]
  },
  {
   "cell_type": "code",
   "execution_count": 9,
   "id": "b65d9fc4-db8d-49d6-8da0-89ea53df193a",
   "metadata": {},
   "outputs": [],
   "source": [
    "friends = [{'name': 'Jone', 'age': 20, 'job': 'student'},\n",
    "         {'name': 'Jenny', 'age': 30, 'job': None},\n",
    "         {'name': 'Nate', 'age': 30, 'job': 'teacher'}]\n",
    "df = pd.DataFrame(friends)\n",
    "df = df[['name','age','job']]"
   ]
  },
  {
   "cell_type": "code",
   "execution_count": 10,
   "id": "e7bb79b8-9967-4eb5-ace6-26144df5a100",
   "metadata": {},
   "outputs": [
    {
     "data": {
      "text/html": [
       "<div>\n",
       "<style scoped>\n",
       "    .dataframe tbody tr th:only-of-type {\n",
       "        vertical-align: middle;\n",
       "    }\n",
       "\n",
       "    .dataframe tbody tr th {\n",
       "        vertical-align: top;\n",
       "    }\n",
       "\n",
       "    .dataframe thead th {\n",
       "        text-align: right;\n",
       "    }\n",
       "</style>\n",
       "<table border=\"1\" class=\"dataframe\">\n",
       "  <thead>\n",
       "    <tr style=\"text-align: right;\">\n",
       "      <th></th>\n",
       "      <th>name</th>\n",
       "      <th>age</th>\n",
       "      <th>job</th>\n",
       "    </tr>\n",
       "  </thead>\n",
       "  <tbody>\n",
       "    <tr>\n",
       "      <th>0</th>\n",
       "      <td>Jone</td>\n",
       "      <td>20</td>\n",
       "      <td>student</td>\n",
       "    </tr>\n",
       "    <tr>\n",
       "      <th>1</th>\n",
       "      <td>Jenny</td>\n",
       "      <td>30</td>\n",
       "      <td>None</td>\n",
       "    </tr>\n",
       "    <tr>\n",
       "      <th>2</th>\n",
       "      <td>Nate</td>\n",
       "      <td>30</td>\n",
       "      <td>teacher</td>\n",
       "    </tr>\n",
       "  </tbody>\n",
       "</table>\n",
       "</div>"
      ],
      "text/plain": [
       "    name  age      job\n",
       "0   Jone   20  student\n",
       "1  Jenny   30     None\n",
       "2   Nate   30  teacher"
      ]
     },
     "execution_count": 10,
     "metadata": {},
     "output_type": "execute_result"
    }
   ],
   "source": [
    "df.head()"
   ]
  },
  {
   "cell_type": "markdown",
   "id": "be8a17c9-023e-4900-a0c7-d16b7db9cc81",
   "metadata": {},
   "source": [
    "to_csv 함수를 사용하여 파일로 저장하실 수 있습니다."
   ]
  },
  {
   "cell_type": "code",
   "execution_count": 11,
   "id": "0ce8e24f-a210-4df6-877e-49be8d807853",
   "metadata": {},
   "outputs": [],
   "source": [
    "df.to_csv('friends.csv')"
   ]
  },
  {
   "cell_type": "markdown",
   "id": "78c5326e-50a6-41cd-8da2-f3603efd9402",
   "metadata": {},
   "source": [
    "기본적으로, 헤더와 인덱스값은 주시지 않아도, 기본적으로 True로 설정되어 있습니다."
   ]
  },
  {
   "cell_type": "code",
   "execution_count": 12,
   "id": "7d54cc1e-593c-4abd-bff0-433155870064",
   "metadata": {},
   "outputs": [],
   "source": [
    "df.to_csv('friends.csv', index = True, header = False)"
   ]
  },
  {
   "cell_type": "markdown",
   "id": "e4e71dec-3a97-45ad-83b7-07250b30c58a",
   "metadata": {},
   "source": [
    "header = False 는 컬럼 이름을 파일에 저장하지 않겠다라는 의미입니다. 예제에서 0,1,2가 헤더에 저장되지 않습니다.\n",
    "index = False 는 로우 인덱스를 파일에 저장하지 않겠다라는 의미입니다. 예제에서 0,1,2가 로우 인덱스에 저장되지 않습니다."
   ]
  },
  {
   "cell_type": "code",
   "execution_count": 13,
   "id": "48d55206-df91-4f22-8af4-1c210f1931ec",
   "metadata": {},
   "outputs": [],
   "source": [
    "df.to_csv('friends.csv', index = False, header = False)"
   ]
  },
  {
   "cell_type": "markdown",
   "id": "0d5db910-5cdc-4a8e-9e60-6581cedd6aaf",
   "metadata": {},
   "source": [
    "**na_rep** 을 사용하시면 **None** 을 원하시는 값으로 쉽게 변경하실 수 있습니다."
   ]
  },
  {
   "cell_type": "code",
   "execution_count": 14,
   "id": "f725e5ac-dfc9-45a8-9663-8b051d4fb72c",
   "metadata": {},
   "outputs": [],
   "source": [
    "df.to_csv('friends.csv', index = False, header = False,na_rep = '-') # none일때 -를 입력해라"
   ]
  },
  {
   "cell_type": "code",
   "execution_count": null,
   "id": "994a6c40-7eeb-482c-a2f8-a73e8fcff467",
   "metadata": {},
   "outputs": [],
   "source": []
  }
 ],
 "metadata": {
  "kernelspec": {
   "display_name": "Python 3 (ipykernel)",
   "language": "python",
   "name": "python3"
  },
  "language_info": {
   "codemirror_mode": {
    "name": "ipython",
    "version": 3
   },
   "file_extension": ".py",
   "mimetype": "text/x-python",
   "name": "python",
   "nbconvert_exporter": "python",
   "pygments_lexer": "ipython3",
   "version": "3.11.7"
  }
 },
 "nbformat": 4,
 "nbformat_minor": 5
}
